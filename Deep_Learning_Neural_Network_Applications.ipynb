{
  "cells": [
    {
      "cell_type": "markdown",
      "metadata": {
        "id": "uDCRNpJrg48j"
      },
      "source": [
        "## How to use"
      ]
    },
    {
      "cell_type": "markdown",
      "metadata": {
        "id": "041-Pd9JizMy"
      },
      "source": [
        "Use this URL to access:\n",
        "\n",
        "**shorturl.at/kmyAR**"
      ]
    },
    {
      "cell_type": "markdown",
      "metadata": {
        "id": "8eILMupMg46C"
      },
      "source": [
        "To use this notebook first you need to create a copy in your own personnal google drive (as per the first picture of the first practical session). **Then you'll need to switch the runtime to GPU to be able to train your models on GPU to reduce runtime** (as per the second picture of the first practical session)."
      ]
    },
    {
      "cell_type": "markdown",
      "metadata": {
        "id": "lsAc4bdpt2WK"
      },
      "source": [
        "# Deep learning : **_Neural Network Applications_**"
      ]
    },
    {
      "cell_type": "markdown",
      "metadata": {
        "id": "wgSc1yyE_8gJ"
      },
      "source": [
        "## Computer vision"
      ]
    },
    {
      "cell_type": "markdown",
      "metadata": {
        "id": "8w6CmZaiA07R"
      },
      "source": [
        "### Object detection and image segmentation"
      ]
    },
    {
      "cell_type": "markdown",
      "metadata": {
        "id": "pKybV0QXbIHd"
      },
      "source": [
        "#### Installation"
      ]
    },
    {
      "cell_type": "code",
      "execution_count": null,
      "metadata": {
        "colab": {
          "base_uri": "https://localhost:8080/"
        },
        "id": "6-AAptL1t09c",
        "outputId": "0e6b194a-ebc5-4fb5-9f14-e61b3d080d73"
      },
      "outputs": [
        {
          "name": "stdout",
          "output_type": "stream",
          "text": [
            "Looking in indexes: https://pypi.org/simple, https://us-python.pkg.dev/colab-wheels/public/simple/\n",
            "Collecting pyyaml==5.1\n",
            "  Downloading PyYAML-5.1.tar.gz (274 kB)\n",
            "\u001b[K     |████████████████████████████████| 274 kB 19.7 MB/s \n",
            "\u001b[?25hBuilding wheels for collected packages: pyyaml\n",
            "  Building wheel for pyyaml (setup.py) ... \u001b[?25l\u001b[?25hdone\n",
            "  Created wheel for pyyaml: filename=PyYAML-5.1-cp37-cp37m-linux_x86_64.whl size=44092 sha256=4785328974ab93c9b072de1b9db9670971ee74c65e6c3edb52f43e21f499beb4\n",
            "  Stored in directory: /root/.cache/pip/wheels/77/f5/10/d00a2bd30928b972790053b5de0c703ca87324f3fead0f2fd9\n",
            "Successfully built pyyaml\n",
            "Installing collected packages: pyyaml\n",
            "  Attempting uninstall: pyyaml\n",
            "    Found existing installation: PyYAML 3.13\n",
            "    Uninstalling PyYAML-3.13:\n",
            "      Successfully uninstalled PyYAML-3.13\n",
            "Successfully installed pyyaml-5.1\n",
            "Looking in indexes: https://pypi.org/simple, https://us-python.pkg.dev/colab-wheels/public/simple/\n",
            "Collecting git+https://github.com/facebookresearch/detectron2.git\n",
            "  Cloning https://github.com/facebookresearch/detectron2.git to /tmp/pip-req-build-7su2h0u2\n",
            "  Running command git clone -q https://github.com/facebookresearch/detectron2.git /tmp/pip-req-build-7su2h0u2\n",
            "Requirement already satisfied: Pillow>=7.1 in /usr/local/lib/python3.7/dist-packages (from detectron2==0.6) (7.1.2)\n",
            "Requirement already satisfied: matplotlib in /usr/local/lib/python3.7/dist-packages (from detectron2==0.6) (3.2.2)\n",
            "Requirement already satisfied: pycocotools>=2.0.2 in /usr/local/lib/python3.7/dist-packages (from detectron2==0.6) (2.0.4)\n",
            "Requirement already satisfied: termcolor>=1.1 in /usr/local/lib/python3.7/dist-packages (from detectron2==0.6) (1.1.0)\n",
            "Collecting yacs>=0.1.8\n",
            "  Downloading yacs-0.1.8-py3-none-any.whl (14 kB)\n",
            "Requirement already satisfied: tabulate in /usr/local/lib/python3.7/dist-packages (from detectron2==0.6) (0.8.9)\n",
            "Requirement already satisfied: cloudpickle in /usr/local/lib/python3.7/dist-packages (from detectron2==0.6) (1.3.0)\n",
            "Requirement already satisfied: tqdm>4.29.0 in /usr/local/lib/python3.7/dist-packages (from detectron2==0.6) (4.64.0)\n",
            "Requirement already satisfied: tensorboard in /usr/local/lib/python3.7/dist-packages (from detectron2==0.6) (2.8.0)\n",
            "Collecting fvcore<0.1.6,>=0.1.5\n",
            "  Downloading fvcore-0.1.5.post20220512.tar.gz (50 kB)\n",
            "\u001b[K     |████████████████████████████████| 50 kB 7.0 MB/s \n",
            "\u001b[?25hCollecting iopath<0.1.10,>=0.1.7\n",
            "  Downloading iopath-0.1.9-py3-none-any.whl (27 kB)\n",
            "Requirement already satisfied: future in /usr/local/lib/python3.7/dist-packages (from detectron2==0.6) (0.16.0)\n",
            "Requirement already satisfied: pydot in /usr/local/lib/python3.7/dist-packages (from detectron2==0.6) (1.3.0)\n",
            "Collecting omegaconf>=2.1\n",
            "  Downloading omegaconf-2.2.2-py3-none-any.whl (79 kB)\n",
            "\u001b[K     |████████████████████████████████| 79 kB 9.9 MB/s \n",
            "\u001b[?25hCollecting hydra-core>=1.1\n",
            "  Downloading hydra_core-1.2.0-py3-none-any.whl (151 kB)\n",
            "\u001b[K     |████████████████████████████████| 151 kB 70.9 MB/s \n",
            "\u001b[?25hCollecting black==22.3.0\n",
            "  Downloading black-22.3.0-cp37-cp37m-manylinux_2_17_x86_64.manylinux2014_x86_64.whl (1.4 MB)\n",
            "\u001b[K     |████████████████████████████████| 1.4 MB 57.7 MB/s \n",
            "\u001b[?25hCollecting timm\n",
            "  Downloading timm-0.5.4-py3-none-any.whl (431 kB)\n",
            "\u001b[K     |████████████████████████████████| 431 kB 58.5 MB/s \n",
            "\u001b[?25hCollecting fairscale\n",
            "  Downloading fairscale-0.4.6.tar.gz (248 kB)\n",
            "\u001b[K     |████████████████████████████████| 248 kB 72.4 MB/s \n",
            "\u001b[?25h  Installing build dependencies ... \u001b[?25l\u001b[?25hdone\n",
            "  Getting requirements to build wheel ... \u001b[?25l\u001b[?25hdone\n",
            "  Installing backend dependencies ... \u001b[?25l\u001b[?25hdone\n",
            "    Preparing wheel metadata ... \u001b[?25l\u001b[?25hdone\n",
            "Collecting platformdirs>=2\n",
            "  Downloading platformdirs-2.5.2-py3-none-any.whl (14 kB)\n",
            "Collecting typed-ast>=1.4.2\n",
            "  Downloading typed_ast-1.5.4-cp37-cp37m-manylinux_2_5_x86_64.manylinux1_x86_64.manylinux_2_12_x86_64.manylinux2010_x86_64.whl (843 kB)\n",
            "\u001b[K     |████████████████████████████████| 843 kB 54.4 MB/s \n",
            "\u001b[?25hRequirement already satisfied: tomli>=1.1.0 in /usr/local/lib/python3.7/dist-packages (from black==22.3.0->detectron2==0.6) (2.0.1)\n",
            "Collecting click>=8.0.0\n",
            "  Downloading click-8.1.3-py3-none-any.whl (96 kB)\n",
            "\u001b[K     |████████████████████████████████| 96 kB 6.7 MB/s \n",
            "\u001b[?25hRequirement already satisfied: typing-extensions>=3.10.0.0 in /usr/local/lib/python3.7/dist-packages (from black==22.3.0->detectron2==0.6) (4.2.0)\n",
            "Collecting pathspec>=0.9.0\n",
            "  Downloading pathspec-0.9.0-py2.py3-none-any.whl (31 kB)\n",
            "Collecting mypy-extensions>=0.4.3\n",
            "  Downloading mypy_extensions-0.4.3-py2.py3-none-any.whl (4.5 kB)\n",
            "Requirement already satisfied: importlib-metadata in /usr/local/lib/python3.7/dist-packages (from click>=8.0.0->black==22.3.0->detectron2==0.6) (4.11.4)\n",
            "Requirement already satisfied: numpy in /usr/local/lib/python3.7/dist-packages (from fvcore<0.1.6,>=0.1.5->detectron2==0.6) (1.21.6)\n",
            "Requirement already satisfied: pyyaml>=5.1 in /usr/local/lib/python3.7/dist-packages (from fvcore<0.1.6,>=0.1.5->detectron2==0.6) (5.1)\n",
            "Requirement already satisfied: importlib-resources in /usr/local/lib/python3.7/dist-packages (from hydra-core>=1.1->detectron2==0.6) (5.7.1)\n",
            "Collecting antlr4-python3-runtime==4.9.*\n",
            "  Downloading antlr4-python3-runtime-4.9.3.tar.gz (117 kB)\n",
            "\u001b[K     |████████████████████████████████| 117 kB 70.8 MB/s \n",
            "\u001b[?25hRequirement already satisfied: packaging in /usr/local/lib/python3.7/dist-packages (from hydra-core>=1.1->detectron2==0.6) (21.3)\n",
            "Collecting portalocker\n",
            "  Downloading portalocker-2.4.0-py2.py3-none-any.whl (16 kB)\n",
            "Requirement already satisfied: python-dateutil>=2.1 in /usr/local/lib/python3.7/dist-packages (from matplotlib->detectron2==0.6) (2.8.2)\n",
            "Requirement already satisfied: kiwisolver>=1.0.1 in /usr/local/lib/python3.7/dist-packages (from matplotlib->detectron2==0.6) (1.4.2)\n",
            "Requirement already satisfied: pyparsing!=2.0.4,!=2.1.2,!=2.1.6,>=2.0.1 in /usr/local/lib/python3.7/dist-packages (from matplotlib->detectron2==0.6) (3.0.9)\n",
            "Requirement already satisfied: cycler>=0.10 in /usr/local/lib/python3.7/dist-packages (from matplotlib->detectron2==0.6) (0.11.0)\n",
            "Requirement already satisfied: six>=1.5 in /usr/local/lib/python3.7/dist-packages (from python-dateutil>=2.1->matplotlib->detectron2==0.6) (1.15.0)\n",
            "Requirement already satisfied: torch>=1.8.0 in /usr/local/lib/python3.7/dist-packages (from fairscale->detectron2==0.6) (1.11.0+cu113)\n",
            "Requirement already satisfied: zipp>=0.5 in /usr/local/lib/python3.7/dist-packages (from importlib-metadata->click>=8.0.0->black==22.3.0->detectron2==0.6) (3.8.0)\n",
            "Requirement already satisfied: grpcio>=1.24.3 in /usr/local/lib/python3.7/dist-packages (from tensorboard->detectron2==0.6) (1.46.3)\n",
            "Requirement already satisfied: wheel>=0.26 in /usr/local/lib/python3.7/dist-packages (from tensorboard->detectron2==0.6) (0.37.1)\n",
            "Requirement already satisfied: tensorboard-data-server<0.7.0,>=0.6.0 in /usr/local/lib/python3.7/dist-packages (from tensorboard->detectron2==0.6) (0.6.1)\n",
            "Requirement already satisfied: tensorboard-plugin-wit>=1.6.0 in /usr/local/lib/python3.7/dist-packages (from tensorboard->detectron2==0.6) (1.8.1)\n",
            "Requirement already satisfied: google-auth<3,>=1.6.3 in /usr/local/lib/python3.7/dist-packages (from tensorboard->detectron2==0.6) (1.35.0)\n",
            "Requirement already satisfied: setuptools>=41.0.0 in /usr/local/lib/python3.7/dist-packages (from tensorboard->detectron2==0.6) (57.4.0)\n",
            "Requirement already satisfied: google-auth-oauthlib<0.5,>=0.4.1 in /usr/local/lib/python3.7/dist-packages (from tensorboard->detectron2==0.6) (0.4.6)\n",
            "Requirement already satisfied: markdown>=2.6.8 in /usr/local/lib/python3.7/dist-packages (from tensorboard->detectron2==0.6) (3.3.7)\n",
            "Requirement already satisfied: requests<3,>=2.21.0 in /usr/local/lib/python3.7/dist-packages (from tensorboard->detectron2==0.6) (2.23.0)\n",
            "Requirement already satisfied: absl-py>=0.4 in /usr/local/lib/python3.7/dist-packages (from tensorboard->detectron2==0.6) (1.1.0)\n",
            "Requirement already satisfied: protobuf>=3.6.0 in /usr/local/lib/python3.7/dist-packages (from tensorboard->detectron2==0.6) (3.17.3)\n",
            "Requirement already satisfied: werkzeug>=0.11.15 in /usr/local/lib/python3.7/dist-packages (from tensorboard->detectron2==0.6) (1.0.1)\n",
            "Requirement already satisfied: pyasn1-modules>=0.2.1 in /usr/local/lib/python3.7/dist-packages (from google-auth<3,>=1.6.3->tensorboard->detectron2==0.6) (0.2.8)\n",
            "Requirement already satisfied: rsa<5,>=3.1.4 in /usr/local/lib/python3.7/dist-packages (from google-auth<3,>=1.6.3->tensorboard->detectron2==0.6) (4.8)\n",
            "Requirement already satisfied: cachetools<5.0,>=2.0.0 in /usr/local/lib/python3.7/dist-packages (from google-auth<3,>=1.6.3->tensorboard->detectron2==0.6) (4.2.4)\n",
            "Requirement already satisfied: requests-oauthlib>=0.7.0 in /usr/local/lib/python3.7/dist-packages (from google-auth-oauthlib<0.5,>=0.4.1->tensorboard->detectron2==0.6) (1.3.1)\n",
            "Requirement already satisfied: pyasn1<0.5.0,>=0.4.6 in /usr/local/lib/python3.7/dist-packages (from pyasn1-modules>=0.2.1->google-auth<3,>=1.6.3->tensorboard->detectron2==0.6) (0.4.8)\n",
            "Requirement already satisfied: urllib3!=1.25.0,!=1.25.1,<1.26,>=1.21.1 in /usr/local/lib/python3.7/dist-packages (from requests<3,>=2.21.0->tensorboard->detectron2==0.6) (1.24.3)\n",
            "Requirement already satisfied: chardet<4,>=3.0.2 in /usr/local/lib/python3.7/dist-packages (from requests<3,>=2.21.0->tensorboard->detectron2==0.6) (3.0.4)\n",
            "Requirement already satisfied: idna<3,>=2.5 in /usr/local/lib/python3.7/dist-packages (from requests<3,>=2.21.0->tensorboard->detectron2==0.6) (2.10)\n",
            "Requirement already satisfied: certifi>=2017.4.17 in /usr/local/lib/python3.7/dist-packages (from requests<3,>=2.21.0->tensorboard->detectron2==0.6) (2022.5.18.1)\n",
            "Requirement already satisfied: oauthlib>=3.0.0 in /usr/local/lib/python3.7/dist-packages (from requests-oauthlib>=0.7.0->google-auth-oauthlib<0.5,>=0.4.1->tensorboard->detectron2==0.6) (3.2.0)\n",
            "Requirement already satisfied: torchvision in /usr/local/lib/python3.7/dist-packages (from timm->detectron2==0.6) (0.12.0+cu113)\n",
            "Building wheels for collected packages: detectron2, fvcore, antlr4-python3-runtime, fairscale\n",
            "  Building wheel for detectron2 (setup.py) ... \u001b[?25l\u001b[?25hdone\n",
            "  Created wheel for detectron2: filename=detectron2-0.6-cp37-cp37m-linux_x86_64.whl size=5303467 sha256=262a1c4c882737ba2ad35a62d9fe55f9a69c1c34dff6469c07824e6a090d9df9\n",
            "  Stored in directory: /tmp/pip-ephem-wheel-cache-rnt1oyqo/wheels/07/dc/32/0322cb484dbefab8b9366bfedbaff5060ac7d149d69c27ca5d\n",
            "  Building wheel for fvcore (setup.py) ... \u001b[?25l\u001b[?25hdone\n",
            "  Created wheel for fvcore: filename=fvcore-0.1.5.post20220512-py3-none-any.whl size=61288 sha256=30b132fd1555e4d928ac2553d4ddc6e41d962d1099e272b143cb7a53f40c14c4\n",
            "  Stored in directory: /root/.cache/pip/wheels/68/20/f9/a11a0dd63f4c13678b2a5ec488e48078756505c7777b75b29e\n",
            "  Building wheel for antlr4-python3-runtime (setup.py) ... \u001b[?25l\u001b[?25hdone\n",
            "  Created wheel for antlr4-python3-runtime: filename=antlr4_python3_runtime-4.9.3-py3-none-any.whl size=144575 sha256=2333f92f0e37e5cdf220dee814298feeff3dae21e4c54a869bee8b2d8a956995\n",
            "  Stored in directory: /root/.cache/pip/wheels/8b/8d/53/2af8772d9aec614e3fc65e53d4a993ad73c61daa8bbd85a873\n"
          ]
        }
      ],
      "source": [
        "!python -m pip install pyyaml==5.1\n",
        "!python -m pip install 'git+https://github.com/facebookresearch/detectron2.git'"
      ]
    },
    {
      "cell_type": "markdown",
      "metadata": {
        "id": "mCoDM4M8BExR"
      },
      "source": [
        "#### Demonstration"
      ]
    },
    {
      "cell_type": "markdown",
      "metadata": {
        "id": "DDzV6TZJAHrp"
      },
      "source": [
        "Among the main topics in computer vision are object detection and image segmentation.\n",
        "\n",
        "In the first task, the goal is to draw a box around each object on an image, the notion of objects depending on what we defined when training the neural network.\n",
        "\n",
        "In the second task, we aim at classifying pixels in a category if the pixel is part of an \"object\" as a human would see it.\n",
        "\n",
        "Let us see an example of these tasks, using [Detectron](https://github.com/facebookresearch/detectron2), an open-source model for detection and segmentation."
      ]
    },
    {
      "cell_type": "code",
      "execution_count": null,
      "metadata": {
        "colab": {
          "background_save": true
        },
        "id": "wkQRbXwLHQ2T",
        "outputId": "a8fe78df-4031-4714-bb93-5adcd79cf414"
      },
      "outputs": [
        {
          "name": "stdout",
          "output_type": "stream",
          "text": [
            "--2022-06-17 15:01:39--  https://upload.wikimedia.org/wikipedia/commons/9/9c/Vue_de_la_prochaine_Ecole_Centrale_Casablanca.jpg\n",
            "Resolving upload.wikimedia.org (upload.wikimedia.org)... 208.80.154.240, 2620:0:861:ed1a::2:b\n",
            "Connecting to upload.wikimedia.org (upload.wikimedia.org)|208.80.154.240|:443... connected.\n",
            "HTTP request sent, awaiting response... 200 OK\n",
            "Length: 74861 (73K) [image/jpeg]\n",
            "Saving to: ‘input_casablanca.jpg’\n",
            "\n",
            "\rinput_casablanca.jp   0%[                    ]       0  --.-KB/s               \rinput_casablanca.jp 100%[===================>]  73.11K  --.-KB/s    in 0.002s  \n",
            "\n",
            "2022-06-17 15:01:39 (31.4 MB/s) - ‘input_casablanca.jpg’ saved [74861/74861]\n",
            "\n"
          ]
        }
      ],
      "source": [
        "# Download some images\n",
        "!wget http://images.cocodataset.org/val2017/000000439715.jpg -q -O input.jpg\n",
        "!wget https://upload.wikimedia.org/wikipedia/commons/9/9c/Vue_de_la_prochaine_Ecole_Centrale_Casablanca.jpg -O input_casablanca.jpg"
      ]
    },
    {
      "cell_type": "code",
      "execution_count": null,
      "metadata": {
        "id": "6RMe3V0_GLa7"
      },
      "outputs": [],
      "source": [
        "import numpy as np\n",
        "import os, json, cv2, random\n",
        "from google.colab.patches import cv2_imshow\n",
        "\n",
        "from detectron2 import model_zoo\n",
        "from detectron2.engine import DefaultPredictor\n",
        "from detectron2.config import get_cfg\n",
        "from detectron2.utils.visualizer import Visualizer\n",
        "from detectron2.data import MetadataCatalog\n",
        "\n",
        "def build_cfg(file=\"COCO-InstanceSegmentation/mask_rcnn_R_50_FPN_3x.yaml\"):\n",
        "  cfg = get_cfg()\n",
        "  cfg.merge_from_file(model_zoo.get_config_file(file))\n",
        "  cfg.MODEL.ROI_HEADS.SCORE_THRESH_TEST = 0.5  # set threshold for this model\n",
        "  cfg.MODEL.WEIGHTS = model_zoo.get_checkpoint_url(file)\n",
        "  return cfg\n",
        "\n",
        "def visualize_outputs(outputs, img, cfg):\n",
        "  v = Visualizer(img[:, :, ::-1], MetadataCatalog.get(cfg.DATASETS.TRAIN[0]), scale=1)\n",
        "  out = v.draw_instance_predictions(outputs[\"instances\"].to(\"cpu\"))\n",
        "  print(\"\\n\\nDetections and segmentations:\")\n",
        "  cv2_imshow(out.get_image()[:, :, ::-1])\n",
        "\n",
        "cfg = build_cfg()\n",
        "predictor = DefaultPredictor(cfg)\n",
        "\n",
        "def infer_image(img_path):\n",
        "  img = cv2.imread(img_path)\n",
        "  print(\"Original image:\")\n",
        "  cv2_imshow(img)\n",
        "  outputs = predictor(img)\n",
        "  visualize_outputs(outputs, img, cfg)"
      ]
    },
    {
      "cell_type": "code",
      "execution_count": null,
      "metadata": {
        "id": "D_IPdsVgI8Z_"
      },
      "outputs": [],
      "source": [
        "infer_image(\"./input.jpg\")"
      ]
    },
    {
      "cell_type": "code",
      "execution_count": null,
      "metadata": {
        "id": "9YNvsqgqI9gG"
      },
      "outputs": [],
      "source": [
        "infer_image(\"./input_casablanca.jpg\")"
      ]
    },
    {
      "cell_type": "markdown",
      "metadata": {
        "id": "XD38T-RGBITk"
      },
      "source": [
        "#### Explanation"
      ]
    },
    {
      "cell_type": "markdown",
      "metadata": {
        "id": "oZvZ2ISXDr5v"
      },
      "source": [
        "A popular architecture for detection and segmentation (also known as instance segmentation): [Mask R-CNN](https://arxiv.org/abs/1703.06870v3)\n",
        "\n",
        "![Mask R-CNN architecture](https://production-media.paperswithcode.com/methods/Screen_Shot_2020-05-23_at_7.44.34_PM.png)\n",
        "\n",
        "_Image taken from [here](https://arxiv.org/pdf/1703.06870.pdf)._"
      ]
    },
    {
      "cell_type": "markdown",
      "metadata": {
        "id": "ZrDk8MRTBAoz"
      },
      "source": [
        "### Generative Adversarial Networks"
      ]
    },
    {
      "cell_type": "markdown",
      "metadata": {
        "id": "7MHodC-pbRO-"
      },
      "source": [
        "#### Installation"
      ]
    },
    {
      "cell_type": "code",
      "execution_count": null,
      "metadata": {
        "id": "LKFzaj1fBCpX"
      },
      "outputs": [],
      "source": [
        "!git clone https://github.com/junyanz/pytorch-CycleGAN-and-pix2pix\n",
        "%cd pytorch-CycleGAN-and-pix2pix\n",
        "!pip install -r requirements.txt"
      ]
    },
    {
      "cell_type": "markdown",
      "metadata": {
        "id": "6CGG99B-BKe6"
      },
      "source": [
        "#### Demonstration"
      ]
    },
    {
      "cell_type": "code",
      "execution_count": null,
      "metadata": {
        "id": "KI5SFoPPKcPa"
      },
      "outputs": [],
      "source": [
        "# Download some pretrained model\n",
        "# You can pick one among:\n",
        "#   apple2orange, orange2apple, summer2winter_yosemite, winter2summer_yosemite,\n",
        "#   horse2zebra, zebra2horse, monet2photo, style_monet, style_cezanne, style_ukiyoe,\n",
        "#   style_vangogh, sat2map, map2sat, cityscapes_photo2label, cityscapes_label2photo,\n",
        "#   facades_photo2label, facades_label2photo, iphone2dslr_flower\n",
        "!bash ./scripts/download_cyclegan_model.sh style_monet"
      ]
    },
    {
      "cell_type": "code",
      "execution_count": null,
      "metadata": {
        "id": "LXiQzu1FMQAQ"
      },
      "outputs": [],
      "source": [
        "# Build a small dataset of images to transform\n",
        "!mkdir -p datasets/custom/testA\n",
        "%cd datasets/custom/testA\n",
        "\n",
        "!wget https://upload.wikimedia.org/wikipedia/commons/9/9c/Vue_de_la_prochaine_Ecole_Centrale_Casablanca.jpg -O input_casablanca.jpg\n",
        "\n",
        "%cd ../../.."
      ]
    },
    {
      "cell_type": "code",
      "execution_count": null,
      "metadata": {
        "id": "KCUJj109LhaU"
      },
      "outputs": [],
      "source": [
        "# Transform images\n",
        "!python test.py --dataroot datasets/custom/testA --name style_monet_pretrained --model test --no_dropout"
      ]
    },
    {
      "cell_type": "code",
      "execution_count": null,
      "metadata": {
        "id": "wfHvtFdWM12Z"
      },
      "outputs": [],
      "source": [
        "import matplotlib.pyplot as plt\n",
        "\n",
        "def name(img_name, type):\n",
        "  split_name = img_name.split(\".\")\n",
        "  return \".\".join(split_name[:-1]) + f\"_{type}.{split_name[-1]}\"\n",
        "\n",
        "def show_result(model_type, img_name):\n",
        "  plt.figure(figsize=(15, 15))\n",
        "  plt.subplot(121)\n",
        "  img = plt.imread(f'./results/{model_type}_pretrained/test_latest/images/{name(img_name, \"real\")}')\n",
        "  plt.imshow(img)\n",
        "  plt.title(\"Real image\")\n",
        "  plt.subplot(122)\n",
        "  img = plt.imread(f'./results/{model_type}_pretrained/test_latest/images/{name(img_name, \"fake\")}')\n",
        "  plt.imshow(img)\n",
        "  plt.title(\"Fake image\")\n",
        "\n",
        "show_result(\"style_monet\", \"input_casablanca.png\")"
      ]
    },
    {
      "cell_type": "markdown",
      "metadata": {
        "id": "UHizt-DtBMEb"
      },
      "source": [
        "#### Explanation"
      ]
    },
    {
      "cell_type": "markdown",
      "metadata": {
        "id": "0A37srepFupk"
      },
      "source": [
        "Idea of Generative Adversarial Networks:\n",
        "\n",
        "![GAN](https://miro.medium.com/max/800/0*_PEWcPKaXEBla9pP.png)\n",
        "\n",
        "_Image taken from [here](https://medium.com/analytics-vidhya/a-review-of-generative-adversarial-networks-part-1-a3e5757a3dc2)._"
      ]
    },
    {
      "cell_type": "markdown",
      "metadata": {
        "id": "IZHb2Pn3sr-M"
      },
      "source": [
        "Other example of generation of images, this time from text: [**Dall-E (mini)**](https://huggingface.co/spaces/dalle-mini/dalle-mini)"
      ]
    },
    {
      "cell_type": "markdown",
      "metadata": {
        "id": "JGabdBqf7ngT"
      },
      "source": [
        "### Cleaning:\n",
        "\n",
        "To avoid conflicts within the different git repositories we are downloading, we are going to clean the servers installation. Normally we would install each repo in a different virtual environment but on collab it is easier to just clean everything."
      ]
    },
    {
      "cell_type": "markdown",
      "metadata": {
        "id": "ugcITyoO7-G0"
      },
      "source": [
        "![Screenshot from 2022-06-17 11-13-21.png](data:image/png;base64,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)"
      ]
    },
    {
      "cell_type": "markdown",
      "metadata": {
        "id": "DF4tV77wBvo2"
      },
      "source": [
        "## Natural Language Processing"
      ]
    },
    {
      "cell_type": "markdown",
      "metadata": {
        "id": "yhvlxPGVI62o"
      },
      "source": [
        "### Information retrieval from database"
      ]
    },
    {
      "cell_type": "code",
      "execution_count": null,
      "metadata": {
        "id": "kWyVP5DVFhZj"
      },
      "outputs": [],
      "source": [
        "!pip install farm-haystack\n",
        "!pip install --upgrade pip\n",
        "!pip install git+https://github.com/deepset-ai/haystack.git#egg=farm-haystack[colab]"
      ]
    },
    {
      "cell_type": "code",
      "execution_count": null,
      "metadata": {
        "id": "s3z0VWI4aojR"
      },
      "outputs": [],
      "source": [
        "from haystack.utils import clean_wiki_text, convert_files_to_docs, fetch_archive_from_http, print_answers\n",
        "from haystack.nodes import FARMReader, TransformersReader\n",
        "\n",
        "! wget https://artifacts.elastic.co/downloads/elasticsearch/elasticsearch-7.9.2-linux-x86_64.tar.gz -q\n",
        "! tar -xzf elasticsearch-7.9.2-linux-x86_64.tar.gz\n",
        "! chown -R daemon:daemon elasticsearch-7.9.2\n",
        "\n",
        "import os\n",
        "from subprocess import Popen, PIPE, STDOUT\n",
        "\n",
        "es_server = Popen(\n",
        "    [\"elasticsearch-7.9.2/bin/elasticsearch\"], stdout=PIPE, stderr=STDOUT, preexec_fn=lambda: os.setuid(1)  # as daemon\n",
        ")\n",
        "# wait until ES has started\n",
        "! sleep 30\n",
        "\n",
        "from haystack.document_stores import ElasticsearchDocumentStore\n",
        "\n",
        "document_store = ElasticsearchDocumentStore(host=\"localhost\", username=\"\", password=\"\", index=\"document\")\n",
        "\n",
        "# Let's first fetch some documents that we want to query\n",
        "# Here: 517 Wikipedia articles for Game of Thrones\n",
        "doc_dir = \"data/tutorial1\"\n",
        "s3_url = \"https://s3.eu-central-1.amazonaws.com/deepset.ai-farm-qa/datasets/documents/wiki_gameofthrones_txt1.zip\"\n",
        "fetch_archive_from_http(url=s3_url, output_dir=doc_dir)\n",
        "\n",
        "# Convert files to dicts\n",
        "# You can optionally supply a cleaning function that is applied to each doc (e.g. to remove footers)\n",
        "# It must take a str as input, and return a str.\n",
        "docs = convert_files_to_docs(dir_path=doc_dir, clean_func=clean_wiki_text, split_paragraphs=True)\n",
        "\n",
        "# We now have a list of dictionaries that we can write to our document store.\n",
        "# If your texts come from a different source (e.g. a DB), you can of course skip convert_files_to_dicts() and create the dictionaries yourself.\n",
        "# The default format here is:\n",
        "# {\n",
        "#    'content': \"<DOCUMENT_TEXT_HERE>\",\n",
        "#    'meta': {'name': \"<DOCUMENT_NAME_HERE>\", ...}\n",
        "# }\n",
        "# (Optionally: you can also add more key-value-pairs here, that will be indexed as fields in Elasticsearch and\n",
        "# can be accessed later for filtering or shown in the responses of the Pipeline)\n",
        "\n",
        "# Let's have a look at the first 3 entries:\n",
        "print(docs[:3])\n",
        "\n",
        "# Now, let's write the dicts containing documents to our DB.\n",
        "document_store.write_documents(docs)\n",
        "\n",
        "from haystack.nodes import BM25Retriever\n",
        "\n",
        "retriever = BM25Retriever(document_store=document_store)\n",
        "\n",
        "# Load a  local model or any of the QA models on\n",
        "# Hugging Face's model hub (https://huggingface.co/models)\n",
        "\n",
        "reader = FARMReader(model_name_or_path=\"deepset/roberta-base-squad2\", use_gpu=True)\n",
        "\n",
        "from haystack.pipelines import ExtractiveQAPipeline\n",
        "\n",
        "pipe = ExtractiveQAPipeline(reader, retriever)\n",
        "\n"
      ]
    },
    {
      "cell_type": "code",
      "execution_count": null,
      "metadata": {
        "id": "XXBA2xlkecrr"
      },
      "outputs": [],
      "source": [
        "prediction = pipe.run(\n",
        "    query=\"Who is the father of Arya Stark?\", params={\"Retriever\": {\"top_k\": 10}, \"Reader\": {\"top_k\": 5}}\n",
        ")\n",
        "\n",
        "print_answers(prediction, details=\"medium\")"
      ]
    },
    {
      "cell_type": "markdown",
      "metadata": {
        "id": "TwoHmaKBjxWb"
      },
      "source": [
        "### Question answering from context"
      ]
    },
    {
      "cell_type": "code",
      "execution_count": null,
      "metadata": {
        "id": "ZYsk78JCjFYT"
      },
      "outputs": [],
      "source": [
        "from transformers import AutoModelForQuestionAnswering, AutoTokenizer, pipeline\n",
        "\n",
        "model_name = \"deepset/roberta-base-squad2\"\n",
        "\n",
        "# a) Get predictions\n",
        "nlp = pipeline('question-answering', model=model_name, tokenizer=model_name)\n",
        "QA_input = {\n",
        "    'question': 'Where is the Centrale school ?',\n",
        "    'context': 'This week we were in Casablanca to participate in the Spring School on datascience and deep learning organised by Centrale and univesity Cadi Ayyad of Marrakech.'\n",
        "}\n",
        "res = nlp(QA_input)\n",
        "\n",
        "# b) Load model & tokenizer\n",
        "model = AutoModelForQuestionAnswering.from_pretrained(model_name)\n",
        "tokenizer = AutoTokenizer.from_pretrained(model_name)"
      ]
    },
    {
      "cell_type": "code",
      "execution_count": null,
      "metadata": {
        "id": "oMDzDFXP2Y5k"
      },
      "outputs": [],
      "source": [
        "print(res)"
      ]
    },
    {
      "cell_type": "markdown",
      "metadata": {
        "id": "CRFAkGbnI8Fo"
      },
      "source": [
        "### Explanation"
      ]
    },
    {
      "cell_type": "markdown",
      "metadata": {
        "id": "Vseg8sHVEtj5"
      },
      "source": [
        "A popular architecture for processing sequences of data: the Recurrent Neural Networks:\n",
        "\n",
        "![RNN](http://colah.github.io/posts/2015-08-Understanding-LSTMs/img/RNN-unrolled.png)\n",
        "\n",
        "_Image taken from [here](https://pydeeplearning.weebly.com/blog/basic-architecture-of-rnn-and-lstm)._"
      ]
    },
    {
      "cell_type": "markdown",
      "metadata": {
        "id": "ICL1059q9B3e"
      },
      "source": [
        "### Cleaning:\n",
        "\n",
        "To avoid conflicts within the different git repositories we are downloading, we are going to clean the servers installation. Normally we would install each repo in a different virtual environment but on collab it is easier to just clean everything."
      ]
    },
    {
      "cell_type": "markdown",
      "metadata": {
        "id": "avSXB8rsBx1C"
      },
      "source": [
        "## Speech processing"
      ]
    },
    {
      "cell_type": "markdown",
      "metadata": {
        "id": "PJJ-Hvg9bY_l"
      },
      "source": [
        "### Installation"
      ]
    },
    {
      "cell_type": "code",
      "execution_count": null,
      "metadata": {
        "id": "BZkr7LLUQt58"
      },
      "outputs": [],
      "source": [
        "!pip install huggingface-hub g2p-en\n",
        "!git clone https://github.com/pytorch/fairseq\n",
        "%cd fairseq\n",
        "!pip install --editable ./"
      ]
    },
    {
      "cell_type": "markdown",
      "metadata": {
        "id": "o79_zlIWba8a"
      },
      "source": [
        "### Demonstration"
      ]
    },
    {
      "cell_type": "code",
      "execution_count": null,
      "metadata": {
        "id": "kJnoBCSTBzNC"
      },
      "outputs": [],
      "source": [
        "from fairseq.checkpoint_utils import load_model_ensemble_and_task_from_hf_hub\n",
        "from fairseq.models.text_to_speech.hub_interface import TTSHubInterface\n",
        "from IPython.display import Audio\n",
        "\n",
        "\n",
        "models, cfg, task = load_model_ensemble_and_task_from_hf_hub(\n",
        "    \"facebook/fastspeech2-en-ljspeech\",\n",
        "    arg_overrides={\"vocoder\": \"hifigan\", \"fp16\": False}\n",
        ")\n",
        "model = models[0].cuda()\n",
        "TTSHubInterface.update_cfg_with_data_cfg(cfg, task.data_cfg)\n",
        "generator = task.build_generator([model], cfg)\n",
        "\n",
        "def predictWavFromText(text):\n",
        "  sample = TTSHubInterface.get_model_input(task, text)\n",
        "  sample['net_input']['src_tokens'] = sample['net_input']['src_tokens'].cuda()\n",
        "  wav, rate = TTSHubInterface.get_prediction(task, model, generator, sample)\n",
        "\n",
        "  wav = wav.cpu()\n",
        "  return wav, rate"
      ]
    },
    {
      "cell_type": "code",
      "execution_count": null,
      "metadata": {
        "id": "-t10XowkSnGz"
      },
      "outputs": [],
      "source": [
        "text = \"Welcome to the Casablanca Spring School on Data Science 2022! We hope you enjoyed these practical sessions on deep learning.\"\n",
        "\n",
        "wav, rate = predictWavFromText(text)\n",
        "Audio(wav, rate=rate)"
      ]
    },
    {
      "cell_type": "markdown",
      "metadata": {
        "id": "dX-ezzBD9Rcj"
      },
      "source": [
        "### Cleaning:\n",
        "\n",
        "To avoid conflicts within the different git repositories we are downloading, we are going to clean the servers installation. Normally we would install each repo in a different virtual environment but on collab it is easier to just clean everything."
      ]
    },
    {
      "cell_type": "markdown",
      "metadata": {
        "id": "7fb0KpXQB4X7"
      },
      "source": [
        "## Graphs"
      ]
    },
    {
      "cell_type": "markdown",
      "metadata": {
        "id": "5Lrl18sdG4X8"
      },
      "source": [
        "### Installation"
      ]
    },
    {
      "cell_type": "code",
      "execution_count": null,
      "metadata": {
        "id": "HPnwumXOuQhx"
      },
      "outputs": [],
      "source": [
        "!pip install torch-scatter torch-sparse torch-cluster torch-spline-conv torch-geometric -f https://data.pyg.org/whl/torch-1.11.0+cu113.html"
      ]
    },
    {
      "cell_type": "markdown",
      "metadata": {
        "id": "uO_paKupG6C9"
      },
      "source": [
        "### Demonstration"
      ]
    },
    {
      "cell_type": "markdown",
      "metadata": {
        "id": "gWLaByFjTjjt"
      },
      "source": [
        "This demonstration is adapted from [this article](https://towardsdatascience.com/classifying-the-proteins-benchmark-dataset-ec18e728a17a)."
      ]
    },
    {
      "cell_type": "code",
      "execution_count": null,
      "metadata": {
        "id": "cvYj0D0fuWy0"
      },
      "outputs": [],
      "source": [
        "import torch\n",
        "from torch.nn import Linear, ReLU, Dropout\n",
        "from torch_geometric.nn import Sequential, GCNConv, global_mean_pool\n",
        "from torch_geometric.data import DataLoader\n",
        "from torch_geometric.datasets import TUDataset\n",
        "import matplotlib.pyplot as plt\n",
        "\n",
        "\n",
        "# Define our GCN class as a pytorch Module\n",
        "class GlobalMeanPooling(torch.nn.Module):\n",
        "    def forward(self, x, batch):\n",
        "      return global_mean_pool(x, batch)  # [batch_size, hidden_channels]\n",
        "\n",
        "def GCN(hidden_channels):\n",
        "    return Sequential('x, edge_index, batch', [\n",
        "        (GCNConv(dataset.num_node_features, hidden_channels), 'x, edge_index -> x'),\n",
        "        ReLU(inplace=True),\n",
        "        (GCNConv(hidden_channels, hidden_channels), 'x, edge_index -> x'),\n",
        "        ReLU(inplace=True),\n",
        "        (GCNConv(hidden_channels, hidden_channels), 'x, edge_index -> x'),\n",
        "        ReLU(inplace=True),\n",
        "        (GCNConv(hidden_channels, hidden_channels), 'x, edge_index -> x'),\n",
        "        ReLU(inplace=True),\n",
        "        (GCNConv(hidden_channels, hidden_channels), 'x, edge_index -> x'),\n",
        "        (GlobalMeanPooling(), 'x, batch -> x'),\n",
        "        (Dropout(p=0.5), 'x -> x'),\n",
        "        (Linear(hidden_channels, dataset.num_classes), 'x -> x')\n",
        "    ])\n",
        "\n",
        "\n",
        "dataset = TUDataset(root='/tmp/PROTEINS', name='PROTEINS')\n",
        "train_dataset = dataset[150:]\n",
        "test_dataset = dataset[:150]\n",
        "\n",
        "print(\"Stats about our dataset:\")\n",
        "print(f'Number of graphs: {len(dataset)}')\n",
        "print(f'Number of features: {dataset.num_features}')\n",
        "print(f'Number of edges: {dataset[1].num_edges}')\n",
        "print(f'Average number of edges per graph: {int(sum([data.num_edges for data in dataset]) / len(dataset))}\\n')\n",
        "\n",
        "train_loader = DataLoader(train_dataset, batch_size=1024, shuffle=True)\n",
        "test_loader = DataLoader(test_dataset, batch_size=512, shuffle=False)\n",
        "\n",
        "model = GCN(hidden_channels=16).cuda()\n",
        "print(\"Model\", model)"
      ]
    },
    {
      "cell_type": "code",
      "execution_count": null,
      "metadata": {
        "id": "u949WZ79uc5N"
      },
      "outputs": [],
      "source": [
        "# Set our optimizer (adam)\n",
        "optimizer = torch.optim.Adam(model.parameters(), lr=0.001)\n",
        "# Define our loss function\n",
        "criterion = torch.nn.CrossEntropyLoss()\n",
        "\n",
        "# Initialize our train function\n",
        "def train():\n",
        "    model.train()\n",
        "\n",
        "    for data in train_loader:\n",
        "      optimizer.zero_grad()\n",
        "      data = data.cuda()\n",
        "      out = model(data.x, data.edge_index, data.batch)\n",
        "      loss = criterion(out, data.y)\n",
        "      loss.backward()\n",
        "      optimizer.step()\n",
        "\n",
        "# Define our test function\n",
        "def test(loader):\n",
        "  model.eval()\n",
        "\n",
        "  correct = 0\n",
        "  with torch.no_grad():\n",
        "    for data in loader:\n",
        "        data = data.cuda()\n",
        "        out = model(data.x, data.edge_index, data.batch)\n",
        "        pred = out.argmax(dim=1)\n",
        "        correct += int((pred == data.y).sum())\n",
        "  return correct / len(loader.dataset)\n",
        "\n",
        "\n",
        "def plot_metrics(metrics):\n",
        "  plt.plot(metrics[\"epochs\"], metrics[\"train_acc\"], color=\"orange\", label=\"train\")\n",
        "  plt.plot(metrics[\"epochs\"], metrics[\"test_acc\"], color=\"blue\", label=\"test\")\n",
        "  plt.title(\"Training of the graph neural network\")\n",
        "  plt.xlabel(\"Epochs\")\n",
        "  plt.ylabel(\"Accuracy\")\n",
        "  plt.legend()\n",
        "  plt.show()\n",
        "\n",
        "# Run for 200 epochs (range is exclusive in the upper bound)\n",
        "metrics = {'epochs': [], 'train_acc': [], 'test_acc': []}\n",
        "for epoch in range(300):\n",
        "    train()\n",
        "    train_acc = test(train_loader)\n",
        "    test_acc = test(test_loader)\n",
        "    if epoch % 10 == 0:\n",
        "      metrics['epochs'].append(epoch)\n",
        "      metrics['train_acc'].append(train_acc)\n",
        "      metrics['test_acc'].append(test_acc)\n",
        "      print(f'Epoch: {epoch:03d}, Train Acc: {train_acc:.4f}, Test Acc: {test_acc:.4f}')\n",
        "\n",
        "plot_metrics(metrics)"
      ]
    },
    {
      "cell_type": "markdown",
      "metadata": {
        "id": "2LVD3xhZGooh"
      },
      "source": [
        "### Explanation"
      ]
    },
    {
      "cell_type": "markdown",
      "metadata": {
        "id": "1WIumGMcGqEO"
      },
      "source": [
        "![Graph Neural Network](https://tkipf.github.io/graph-convolutional-networks/images/gcn_web.png)\n",
        "\n",
        "_Image taken from [here](https://tkipf.github.io/graph-convolutional-networks/)_"
      ]
    },
    {
      "cell_type": "markdown",
      "metadata": {
        "id": "EtBBkcz2B7UO"
      },
      "source": [
        "## Conclusion"
      ]
    },
    {
      "cell_type": "markdown",
      "metadata": {
        "id": "BX6lZGj0B8dt"
      },
      "source": [
        "You may find numerous other tasks from many fields as well as state-of-the-art models on [Papers With Code](https://paperswithcode.com). This can be a powerful way to find out the best model to use for a specific problem and get the associated code, but also to keep up with the advances in these fields.\n",
        "\n",
        "As we saw through these sessions, deep learning is excellent on many tasks and performs much better than any other methods on a large range of problems. Still, it is important to keep in mind that **neural networks are not the solution to every problem** and can even perform worse than much simpler methods.\n",
        "- **Simple models can perform better**: Neural networks are still quite bad on tabular data. When dealing with such data, using linear regressions or quite more complex models like random forests and boosting often lead to better results with little computation.\n",
        "- **Cost of neural networks**: Neural networks are very fast at inference thanks to the use of GPUs, but this hardware is very expensive and energy demanding. In some problems, very simple models can give results that are similar or even better while requiring much less computation. For instance, when doing optimization with a mathematical model is possible, you may get excellent accuracies with fast computation. Do not put aside all your mathematical knowledge !\n",
        "- **Reliability**: Neural networks are excellent at many tasks but they are black boxes: we feed in data and get a result, with no explanation of how the result is computed. Keep this in mind when designing models for particular applications, as you may not always rely on models' outputs.\n",
        "\n",
        "We hope you enjoyed these sessions and wish you the best of luck with your new knowledge !"
      ]
    },
    {
      "cell_type": "markdown",
      "metadata": {
        "id": "oo-ukELAEnHh"
      },
      "source": [
        "## References"
      ]
    },
    {
      "cell_type": "markdown",
      "metadata": {
        "id": "FjRY6O8bEoRt"
      },
      "source": [
        "- [Github repository for object detection and image segmentation](https://github.com/facebookresearch/detectron2)\n",
        "- [Github repository for GANs in this session](https://github.com/junyanz/pytorch-CycleGAN-and-pix2pix)\n",
        "- [Generation of images from text with Dall-E mini](https://huggingface.co/spaces/dalle-mini/dalle-mini)\n",
        "- [Code for question-answering on Game of Thrones from Wikipedia](https://haystack.deepset.ai/tutorials/first-qa-system)\n",
        "- [Code for question-answering from context sentence](https://huggingface.co/deepset/roberta-base-squad2)\n",
        "- [Code for text-to-speech generation](https://huggingface.co/facebook/fastspeech2-en-ljspeech)\n",
        "- [Library for graph neural networks: _Pytorch Geometric_](https://pytorch-geometric.readthedocs.io/en/latest/index.html)\n",
        "- [Explanation of graph neural networks]()\n",
        "- [Many ready-to-use models in NLP, speech processing, vision...](https://huggingface.co/models)"
      ]
    },
    {
      "cell_type": "markdown",
      "metadata": {
        "id": "OB4xy5xllCJw"
      },
      "source": [
        "_Practical session written by Thomas Chabal and Clément Riu • Spring School on Data Science - Ecole Centrale Casablanca • 2022._"
      ]
    }
  ],
  "metadata": {
    "accelerator": "GPU",
    "colab": {
      "provenance": [],
      "toc_visible": true
    },
    "kernelspec": {
      "display_name": "Python 3",
      "name": "python3"
    },
    "language_info": {
      "name": "python"
    }
  },
  "nbformat": 4,
  "nbformat_minor": 0
}
